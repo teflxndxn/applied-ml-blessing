








# This is a Python cell
# All imports should be at the top of the notebook
# This cell will be executed when the notebook is loaded

# Import pandas for data manipulation and analysis (we might want to do more with it)

# Import matplotlib for creating static visualizations

# Import seaborn for statistical data visualization (built on matplotlib)

# Import the California housing dataset from sklearn
from sklearn.datasets import fetch_california_housing

# Import train_test_split for splitting data into training and test sets

# Import LinearRegression for building a linear regression model

# Import performance metrics for model evaluation





# This is a Python cell.
# Put your comments and code here.
# Read the Markdown cell above for information and example code.
#
# For example:

# Load the data
data = fetch_california_housing(as_frame=True)
data_frame = data.frame  # type: ignore

# Might be large. Display just the first 10 rows (you can change this number)
data_frame.head(10)





# This is a Python cell.
# Put your comments and code here.
# Read the Markdown cell above for information and example code.










# This is a Python cell.
# Put your comments and code here.










# This is a Python cell.
# Put your comments and code here.






# This is a Python cell.
# Put your comments and code here.







# This is a Python cell.
# Put your comments and code here.







# This is a Python cell.
# Put your comments and code here.
#







# This is a Python cell.
# Put your comments and code here.
#







# This is a Python cell. 
# Put your comments and code here.
# 





# This is a Python cell.
# Put your comments and code here.
#





# This is a Python cell.
# Put your comments and code here.
#






# This is a Python cell.
# Put your comments and code here.
#




